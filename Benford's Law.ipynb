{
 "cells": [
  {
   "cell_type": "markdown",
   "id": "59ddcbbe",
   "metadata": {},
   "source": [
    "# Benford's Law\n",
    "### Author: Aleksandar Penev"
   ]
  },
  {
   "cell_type": "markdown",
   "id": "f1ea565b",
   "metadata": {},
   "source": [
    "## Introduction\n",
    "**_Правилото на Бенфорд_** предсказва естествената поява на цифри от **1** до **9**, като по-малките са винаги по-напред. Наблюденията са валидни за всякакви области: счетоводство, физика, астрономия, химия, геология, математика и др. Ако анализирате финансови данни и те нямат никаква допирна точка с правилото, това може да означава, че са манипулирани.\n",
    "\n",
    "Идеята е, че при анализиране на числа, приблизително **30%** от тях ще започнат с цифрата **1**, **20%** ще започнат с цифрирата **2** и т.н.\n",
    "\n",
    "Това правило е странно, но е интересно и си има математическо обяснение."
   ]
  }
 ],
 "metadata": {
  "kernelspec": {
   "display_name": "Python 3 (ipykernel)",
   "language": "python",
   "name": "python3"
  },
  "language_info": {
   "codemirror_mode": {
    "name": "ipython",
    "version": 3
   },
   "file_extension": ".py",
   "mimetype": "text/x-python",
   "name": "python",
   "nbconvert_exporter": "python",
   "pygments_lexer": "ipython3",
   "version": "3.9.7"
  }
 },
 "nbformat": 4,
 "nbformat_minor": 5
}
