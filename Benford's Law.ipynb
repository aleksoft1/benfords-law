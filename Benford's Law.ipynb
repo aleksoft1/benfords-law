{
 "cells": [
  {
   "cell_type": "markdown",
   "id": "6d36b077",
   "metadata": {},
   "source": [
    "# Закон на Бенфорд\n",
    "### Автор: Александър Пенев"
   ]
  },
  {
   "cell_type": "code",
   "execution_count": 4,
   "id": "cc3e8ba5",
   "metadata": {},
   "outputs": [],
   "source": [
    "%matplotlib inline"
   ]
  },
  {
   "cell_type": "code",
   "execution_count": 2,
   "id": "1aec39c0",
   "metadata": {},
   "outputs": [],
   "source": [
    "import numpy as np\n",
    "import matplotlib.pyplot as plt"
   ]
  },
  {
   "cell_type": "markdown",
   "id": "8c1bb368",
   "metadata": {},
   "source": [
    "## Въведение\n",
    "\n",
    "<img src=\"https://raw.githubusercontent.com/aleksoft1/benfords-law/master/Frank_Benford_(1883_-_1948).jpeg\" alt=\"Frank Benford\" width=\"200\" align=\"middle\">\n",
    "\n",
    "**Франк Бенфорд**, физик в \"Дженеръл илектрик\" открива въпросната закономерснот. През 1938 г. публикува статия, озаглавена „Закон за аномалните числа“ и прави сериозно проучване, което установява, че този \"закон на първата цифра\" (first digit law), предсказва естествената поява на цифри от **1** до **9**, като по-малките са винаги по-напред, когато гледаш числа в реалния свят. Наблюденията са валидни за всякакви области: счетоводство, физика, астрономия, химия, геология, математика и др. С други думи е в сила за групи от данни, получени посредством измерване. \n",
    "\n",
    "Идеята е, че при представено в графика на някакви данни, приблизително **30%** от тях ще започнат с цифрата **1**, **20%** приблизително ще започнат с цифрирата **2**, за **3** и **4** честотите започват да се изравняват и т.н. Примерно ако вземем числата на Фибоначи се вижда как следват закона на Бенфорд.\n",
    "\n",
    "Особено значение учените отдават на откритието от 1961г., според което законът на Бенфорд се проявява неизменно за всички видове мащаби. Той важи например за дължините на реките в света с еднаква сила, независимо дали те са представени в километри, мили, светлинни години или микрони. (да се провери една светлинна година на колко е равна и един микрон).\n",
    "\n",
    "Първоначално открито от астронома **Саймън Нюкомб** през 1881г.Докато прехвърлял в библиотеката книга с логаритмични таблици забелязъл, че страниците в началото на книгата са по-мръсни от тези в края й. Това означавало, че тези които ползвали книгата, са разглеждали предимно количества, започващи с числото 1.\n",
    "\n",
    "Но в крайна сметка нито един един от тях не успявя да докаже резултатите си. През 1995г. **Тед Хил** е този който публикува [доказателството](https://digitalcommons.calpoly.edu/cgi/viewcontent.cgi?article=1042&context=rgp_rsr).\n",
    "\n",
    "Tова явление е мистериозно, но си има математическото обяснение.\n",
    "\n",
    "Гледайки една логаритмична скала, разстоянието между 1 и 2 е голямо, между 3 и 4 това разстояние става все по-малко и т.н. , докато не стигнеш до 10. \n",
    "\n",
    "<img src=\"https://raw.githubusercontent.com/aleksoft1/benfords-law/7fb3e7710cd5558460342775fde883efe410fc80/Logarithmic_scale.svg\" alt=\"Logarithmic scale\">\n",
    "\n",
    "Избирайки произволна позиция \"x\" равномерно на тази числова линия, приблизително в **30%** от времето първата цифра на числото ще бъде **1**. Което съвпада с представянето на графата на закона на Бенфорд. Където всяка лента представлява цифра, а височината на лентата е процентът на числата, които започват с тази цифра.\n",
    "\n",
    "<img src=\"https://raw.githubusercontent.com/aleksoft1/benfords-law/7c4113270d245744b1796627fc5c3c4e3c244afa/Rozklad_benforda.svg\" alt=\"The distribution of first digits, according to Benford's law.\" width=\"500\">\n",
    "\n",
    "Основата е че разпределението на Бенфорд работи, за неща които нарастват експоненциално. (да се провери какво означава експоненциално). Като степените на 2. И не важи за числа които се разпределят равномерно като тегло, височина, възраст и в математиката реципрочно и квадратни корени, защото вариациите на първите цифри е малка."
   ]
  },
  {
   "cell_type": "markdown",
   "id": "59a0ea3b",
   "metadata": {},
   "source": [
    "## Приложение\n",
    "\n",
    "Учените са открили много практичнин приложения. Примерно след като установяват, че годишните декларации на фирмените счетоводства трябва да му се подчиняват, икономистите получават мощно оръжие в борбата с измамниците, тъй като е изключително трудно данните да се нагласят така, че законът на Бенфорд да е спазен. Забелязано е в подправените данни преобладават числата 5 и 6, а не 1, като си обяснявавт това с желанието да скрият данните някъде по средата.\n",
    "\n",
    "Няколко примера от живота които следват закона:\n",
    "* Данъчни декларации \n",
    "* Номера на улици, цени на имоти, акции, сметки\n",
    "* 104 физически константи (да проверя за няколко)\n",
    "* Дължината на аминокиселинните последователности на някои избрани протеини\n",
    "* Разстоянието на звездите от Земята в светлинните години\n",
    "* Броят последователи на потребители в Twitter\n",
    "* 1800 молекуларни маси\n",
    "\n",
    "В математиката:\n",
    "* Числа на Фибоначи\n",
    "* Факториел"
   ]
  },
  {
   "cell_type": "markdown",
   "id": "5816330d",
   "metadata": {},
   "source": [
    "## Определение\n",
    "\n",
    "Законът дава прогноза за честотата на водещите цифри, използвайки логаритми с база 10 (да прегледам степенуване и логаритмуване), които предвиждат специфични честоти, които намаляват с увеличаването на цифрите от 1 до 9, със следното логаритмично уравнение:\n",
    "\n",
    "$P(d)=\\log _{10}(d+1)-\\log _{10}(d)=\\log _{10}\\left(\\frac{d+1}{d}\\right)=\\log _{10}\\left(1+\\frac{1}{d}\\right)$\n",
    "\n",
    "Следователно имат следното разпределение:\n",
    "\n",
    "| Цифра | Вероятност | \n",
    "|:-------:|:-------|\n",
    "| 1   | 30.1% |\n",
    "| 2   | 17.6% |\n",
    "| 3   | 12.5% | \n",
    "| 4   | 9.7%  |\n",
    "| 5   | 7.9%  |\n",
    "| 6   | 6.7%  |\n",
    "| 7   | 5.8%  |\n",
    "| 8   | 5.1%  |\n",
    "| 9   | 4.6%  |\n",
    "\n",
    "<img src=\"https://raw.githubusercontent.com/aleksoft1/benfords-law/master/0RXwWQMfYA.png\" alt=\"First Digit Base on log10\" width=\"700\">\n",
    "\n",
    "Примерно взимаме числото 74923 започва с цифрата 7, логаритмично се получава $\\{\\log_{10}\\left(74923\\right)\\} \\approx \\{4.87\\} = 0.87$ че лежи между $\\log_{10}\\left(7\\right) \\approx 0.85$ и $\\log_{10}\\left(8\\right) \\approx 0.90$. (да го сметна на дъска)\n",
    "\n",
    "Вероятността водещата цифра да е $d$ е пропорционална на ширината на интервала между $d$ и $d+1$ в логаритмичната скала. Например интервалът [log 1, log 2] е 6 пъти по-широк от интервала [log 9, log 10], така че се предвижда 1 да се появява 6 пъти по-често от 9."
   ]
  },
  {
   "cell_type": "markdown",
   "id": "d59335c7",
   "metadata": {},
   "source": [
    "## Имплементация закона на Бенфорд в Python"
   ]
  },
  {
   "cell_type": "markdown",
   "id": "0ce646b7",
   "metadata": {},
   "source": [
    "### Вероятностите на водещите цифрите от 1 до 9 "
   ]
  },
  {
   "cell_type": "code",
   "execution_count": 16,
   "id": "267e68d0",
   "metadata": {},
   "outputs": [],
   "source": [
    "def probability_digit(d):\n",
    "    digit = int(d)\n",
    "    prob_digit = np.log10(1 + 1/digit)\n",
    "    return prob_digit"
   ]
  },
  {
   "cell_type": "code",
   "execution_count": 48,
   "id": "876fa9a7",
   "metadata": {},
   "outputs": [],
   "source": [
    "digits = np.arange(1,10)\n",
    "prob_digits = list()\n",
    "for digit in digits:\n",
    "    prob_digits.append(probability_digit(digit))"
   ]
  },
  {
   "cell_type": "code",
   "execution_count": 47,
   "id": "ec75a24e",
   "metadata": {},
   "outputs": [
    {
     "data": {
      "image/png": "[encoded data removed]",
      "text/plain": [
       "<Figure size 864x432 with 1 Axes>"
      ]
     },
     "metadata": {
      "needs_background": "light"
     },
     "output_type": "display_data"
    }
   ],
   "source": [
    "plt.rc('font', size=14)\n",
    "fig, ax = plt.subplots(figsize=(12, 6))\n",
    "ax.bar(digits, prob_digits)\n",
    "plt.xticks(digits)\n",
    "plt.xlabel('Digits')\n",
    "plt.ylabel('Probability')\n",
    "plt.title('Benford\\'s Law: Probability of Leading Digits')\n",
    "plt.show()"
   ]
  },
  {
   "cell_type": "markdown",
   "id": "65870521",
   "metadata": {},
   "source": [
    "### Числата на фибоначи позовавайки се на закона на Бенфорд\n",
    "\n",
    "Ще вземе водещите цифри като ги конвертираме от число в стринг и след това вземем първия елемент от стринга."
   ]
  },
  {
   "cell_type": "code",
   "execution_count": 93,
   "id": "c42e07b5",
   "metadata": {},
   "outputs": [],
   "source": [
    "# Calculates and stores the first n = 1000 Fibonacci numbers\n",
    "def fibonacci(n):\n",
    "    fibs = [1, 1]\n",
    "    for i in range(2, n + 1):\n",
    "        fibs.append(fibs[i - 1] + fibs[i - 2])\n",
    "    return fibs;\n",
    "fibonacci_numbers = fibonacci(1000)"
   ]
  },
  {
   "cell_type": "code",
   "execution_count": 94,
   "id": "aa1f067d",
   "metadata": {},
   "outputs": [],
   "source": [
    "# Calculate the number of leading digits for 1000 Fibonacci Numbers\n",
    "def leading_digit_count(numbers):\n",
    "    digit_dictionary = {\n",
    "        'digit': np.arange(1, 10),\n",
    "        'probability': np.zeros(9),\n",
    "        'count': np.zeros(9)\n",
    "    }\n",
    "    \n",
    "    for number in numbers:\n",
    "        first_digit_from_number = int(str(number)[:1])\n",
    "        index = np.where(digit_dictionary['digit'] == first_digit_from_number)\n",
    "        digit_dictionary['count'][index] = digit_dictionary['count'][index] + 1\n",
    "    \n",
    "    digit_dictionary['probability'] = digit_dictionary['count'] / len(numbers)\n",
    "    \n",
    "    return digit_dictionary"
   ]
  },
  {
   "cell_type": "markdown",
   "id": "f593b139",
   "metadata": {},
   "source": [
    "По-долу ще плотнем първите 10, 100, 1000, 10000 числа на Фибоначи, за да покажем че колкото повече на брой числа на Фибоначи пробваме толкова повече се доближаваме до закона на Бенфорд.\n"
   ]
  },
  {
   "cell_type": "code",
   "execution_count": 112,
   "id": "732af359",
   "metadata": {},
   "outputs": [
    {
     "data": {
      "image/png": "[encoded data removed]",
      "text/plain": [
       "<Figure size 1440x360 with 4 Axes>"
      ]
     },
     "metadata": {
      "needs_background": "light"
     },
     "output_type": "display_data"
    }
   ],
   "source": [
    "plt.rc('font', size=10)\n",
    "fig, axs = plt.subplots(1, 4, figsize=(20,5))\n",
    "# Да разгледам подробно for цикъла\n",
    "for i, ax in enumerate(axs):\n",
    "    n = 10 ** (i + 1)\n",
    "    fib_nums = fibonacci(n)\n",
    "    leading_digit_probability = leading_digit_count(fib_nums)\n",
    "    \n",
    "    ax.bar(leading_digit_probability['digit'], leading_digit_probability['probability'], width=0.25)\n",
    "    ax.bar(digits + 0.25, prob_digits, width=0.25)\n",
    "    \n",
    "    ax.set_xticks(leading_digit_probability['digit'])\n",
    "    ax.set_xlabel('Digit')\n",
    "    ax.set_ylabel('Probability')\n",
    "    ax.set_title(f'n = {n}')\n",
    "    \n",
    "    ax.legend(labels=['Fibonacci', \"Benford's Law\"])\n",
    "\n",
    "plt.suptitle(f'Probability of Leading Digits', fontsize=14)\n",
    "plt.show()"
   ]
  },
  {
   "cell_type": "markdown",
   "id": "f84c55d5",
   "metadata": {},
   "source": [
    "## Заключения"
   ]
  }
 ],
 "metadata": {
  "kernelspec": {
   "display_name": "Python 3 (ipykernel)",
   "language": "python",
   "name": "python3"
  },
  "language_info": {
   "codemirror_mode": {
    "name": "ipython",
    "version": 3
   },
   "file_extension": ".py",
   "mimetype": "text/x-python",
   "name": "python",
   "nbconvert_exporter": "python",
   "pygments_lexer": "ipython3",
   "version": "3.9.7"
  }
 },
 "nbformat": 4,
 "nbformat_minor": 5
}
